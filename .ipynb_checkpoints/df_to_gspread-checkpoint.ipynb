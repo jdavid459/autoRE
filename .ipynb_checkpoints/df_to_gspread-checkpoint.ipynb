{
 "cells": [
  {
   "cell_type": "code",
   "execution_count": 1,
   "metadata": {},
   "outputs": [
    {
     "name": "stderr",
     "output_type": "stream",
     "text": [
      ">> file_cache is unavailable when using oauth2client >= 4.0.0\n",
      "Traceback (most recent call last):\n",
      "  File \"/usr/local/lib/python3.6/site-packages/df2gspread/df2gspread.py\", line 82, in upload\n",
      "    gc.open_by_key(gfile)\n",
      "  File \"/usr/local/lib/python3.6/site-packages/gspread/client.py\", line 113, in open_by_key\n",
      "    raise SpreadsheetNotFound\n",
      "gspread.exceptions.SpreadsheetNotFound\n",
      "\n",
      "During handling of the above exception, another exception occurred:\n",
      "\n",
      "Traceback (most recent call last):\n",
      "  File \"/usr/local/lib/python3.6/site-packages/googleapiclient/discovery_cache/__init__.py\", line 36, in autodetect\n",
      "    from google.appengine.api import memcache\n",
      "ModuleNotFoundError: No module named 'google'\n",
      "\n",
      "During handling of the above exception, another exception occurred:\n",
      "\n",
      "Traceback (most recent call last):\n",
      "  File \"/usr/local/lib/python3.6/site-packages/googleapiclient/discovery_cache/file_cache.py\", line 33, in <module>\n",
      "    from oauth2client.contrib.locked_file import LockedFile\n",
      "ModuleNotFoundError: No module named 'oauth2client.contrib.locked_file'\n",
      "\n",
      "During handling of the above exception, another exception occurred:\n",
      "\n",
      "Traceback (most recent call last):\n",
      "  File \"/usr/local/lib/python3.6/site-packages/googleapiclient/discovery_cache/file_cache.py\", line 37, in <module>\n",
      "    from oauth2client.locked_file import LockedFile\n",
      "ModuleNotFoundError: No module named 'oauth2client.locked_file'\n",
      "\n",
      "During handling of the above exception, another exception occurred:\n",
      "\n",
      "Traceback (most recent call last):\n",
      "  File \"/usr/local/lib/python3.6/site-packages/googleapiclient/discovery_cache/__init__.py\", line 41, in autodetect\n",
      "    from . import file_cache\n",
      "  File \"/usr/local/lib/python3.6/site-packages/googleapiclient/discovery_cache/file_cache.py\", line 41, in <module>\n",
      "    'file_cache is unavailable when using oauth2client >= 4.0.0')\n",
      "ImportError: file_cache is unavailable when using oauth2client >= 4.0.0\n"
     ]
    },
    {
     "data": {
      "text/plain": [
       "<Worksheet 'Test Run' id:o992uf8>"
      ]
     },
     "execution_count": 1,
     "metadata": {},
     "output_type": "execute_result"
    }
   ],
   "source": [
    "from df2gspread import df2gspread as d2g\n",
    "import pandas as pd\n",
    "d = [pd.Series([1., 100, 3.], index=['a', 'b', 'c']),\n",
    "    pd.Series([1., 2., 3., 4.], index=['a', 'b', 'c', 'd'])]\n",
    "df = pd.DataFrame(d)\n",
    "\n",
    "# use full path to spreadsheet file\n",
    "spreadsheet = 'https://docs.google.com/spreadsheets/d/1jX0bRRiDp__lHEgZ6KfMpaszf-5kPO7g33G6XpqOlr4/edit#gid=0'\n",
    "# or spreadsheet file id\n",
    "# spreadsheet = '1cIOgi90...'\n",
    "\n",
    "wks_name = 'Test Run'\n",
    "\n",
    "d2g.upload(df, spreadsheet, wks_name)\n",
    "# if spreadsheet already exists, all data of provided worksheet(or first as default)\n",
    "# will be replaced with data of given DataFrame, make sure that this is what you need!"
   ]
  },
  {
   "cell_type": "code",
   "execution_count": null,
   "metadata": {
    "collapsed": true
   },
   "outputs": [],
   "source": []
  }
 ],
 "metadata": {
  "kernelspec": {
   "display_name": "Python 3",
   "language": "python",
   "name": "python3"
  },
  "language_info": {
   "codemirror_mode": {
    "name": "ipython",
    "version": 3
   },
   "file_extension": ".py",
   "mimetype": "text/x-python",
   "name": "python",
   "nbconvert_exporter": "python",
   "pygments_lexer": "ipython3",
   "version": "3.6.2"
  }
 },
 "nbformat": 4,
 "nbformat_minor": 2
}
